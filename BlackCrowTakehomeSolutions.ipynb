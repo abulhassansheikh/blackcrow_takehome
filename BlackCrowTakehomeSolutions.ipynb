{
 "cells": [
  {
   "cell_type": "markdown",
   "id": "44f4720d",
   "metadata": {},
   "source": [
    "# Black Crow Take home"
   ]
  },
  {
   "cell_type": "markdown",
   "id": "3229bb2e",
   "metadata": {},
   "source": [
    "## Objective Function: \n",
    "Given a user, what is the probability that they will make a purchase in BCAI in the next 7 days."
   ]
  },
  {
   "cell_type": "markdown",
   "id": "73fb5f98",
   "metadata": {},
   "source": [
    "### Understand Problem"
   ]
  },
  {
   "cell_type": "markdown",
   "id": "fdf89988",
   "metadata": {},
   "source": [
    "I think I can reword the problem as: Given a Visitor_ID and today's date (day t), what is the probability they will make a purchase within 7 days (day t+7).\n",
    "\n",
    "I can also split the problem into two cases: Either user has or hasn't made a purchase prior to day t. "
   ]
  },
  {
   "cell_type": "markdown",
   "id": "601fc436",
   "metadata": {},
   "source": [
    "Factors that can be used to determine purchase probability:\n",
    "    \n",
    "1. Visitor_ID did *not* make a purchase prior to day t.\n",
    "    1. User circumstances match that of Visitor_ID that have made a purchase before.\n",
    "        1. Eg. Day of week, time, price of product, any active promotion, etc\n",
    "    2. User characteristics match that of the Visitor_ID that has made a purchase. \n",
    "        1. Eg. Location, device, age, gender and any other personal identifiers \n",
    "    \n",
    "2. Visitor_ID did make a purchase prior to day t.\n",
    "    1. Previous purchase characteristics - May suggest purchase cadence\n",
    "        1. Eg. Quantity bought, prices, time between purchases, total number of separate purchases\n",
    "    2. Site activity on Day t - Can suggest window shopping\n",
    "        1. Absent, Visit site, time spent, pages visited \n",
    "        \n",
    "Note. I have yet to look at the data, so some of these features may not exist, or I may find new, more useful features. \n",
    "    "
   ]
  },
  {
   "cell_type": "markdown",
   "id": "7825ee4a",
   "metadata": {},
   "source": [
    "For simplicity sake, I am going to use Jan 10th, 2022 as day t."
   ]
  },
  {
   "cell_type": "markdown",
   "id": "271c8074",
   "metadata": {},
   "source": [
    "## Assessment:"
   ]
  },
  {
   "cell_type": "markdown",
   "id": "4e207b64",
   "metadata": {},
   "source": [
    "### Read both the datasets"
   ]
  },
  {
   "cell_type": "code",
   "execution_count": 394,
   "id": "29d9a871",
   "metadata": {
    "scrolled": true
   },
   "outputs": [],
   "source": [
    "import pyarrow.parquet as pq\n",
    "import pandas as pd\n",
    "from datetime import datetime\n",
    "import json\n",
    "from pandas import json_normalize"
   ]
  },
  {
   "cell_type": "code",
   "execution_count": 258,
   "id": "49bbff29",
   "metadata": {
    "scrolled": true
   },
   "outputs": [],
   "source": [
    "conversions = pq.read_table(source='conversions.parquet').to_pandas()"
   ]
  },
  {
   "cell_type": "code",
   "execution_count": 381,
   "id": "85153d69",
   "metadata": {
    "scrolled": true
   },
   "outputs": [],
   "source": [
    "customers = pq.read_table(source='customers.parquet').to_pandas()"
   ]
  },
  {
   "cell_type": "markdown",
   "id": "69acc5f6",
   "metadata": {},
   "source": [
    "### Perform EDA (Exploratory Data Analysis)"
   ]
  },
  {
   "cell_type": "markdown",
   "id": "54df2237",
   "metadata": {},
   "source": [
    "#### Conversions Data"
   ]
  },
  {
   "cell_type": "code",
   "execution_count": 13,
   "id": "53b7a57b",
   "metadata": {
    "scrolled": true
   },
   "outputs": [
    {
     "data": {
      "text/plain": [
       "<bound method NDFrame.head of      REQUESTED_AT                                         VISITOR_ID\n",
       "0      2022-01-14  db07fb0f4952db44383fb3a42e5169ef11eb23c9c5533d...\n",
       "1      2022-01-12  a9b327fc32ae2c9749473b90145ba4b4a8dde11babba55...\n",
       "2      2022-01-13  4d5e9ee969ae57389308cae43e2f5848871831fb9d539b...\n",
       "3      2022-01-12  6e3f99c954427f9171f6d80b73ad3eab67f251adb05ad5...\n",
       "4      2022-01-12  9cf66459dcdf50ce55196b41e1b6816aad6ca7abc0ade1...\n",
       "...           ...                                                ...\n",
       "2047   2022-01-10  0d7f7bdba545f7b4233f892d95b3a8bc58b3affa2a8b0a...\n",
       "2048   2022-01-10  055770bf0bfffe9db47b4d8486c44eb941a3ff2eaf2ace...\n",
       "2050   2022-01-10  b02024ec16a35bc3b105c383161afd3519d5e1a7d7c9ab...\n",
       "2053   2022-01-10  80d6c7e2f82cdde5ca4e4279dd690d6ccb1ddf5c85bdd1...\n",
       "2055   2022-01-10  9635a39f2e7886ec5fe9a2ccc44655df94509feb482b2e...\n",
       "\n",
       "[1735 rows x 2 columns]>"
      ]
     },
     "execution_count": 13,
     "metadata": {},
     "output_type": "execute_result"
    }
   ],
   "source": [
    "conversions.head"
   ]
  },
  {
   "cell_type": "code",
   "execution_count": 19,
   "id": "f484b32d",
   "metadata": {},
   "outputs": [
    {
     "data": {
      "text/plain": [
       "1735"
      ]
     },
     "execution_count": 19,
     "metadata": {},
     "output_type": "execute_result"
    }
   ],
   "source": [
    "# Number of unique visitor_ids\n",
    "len(conversions.VISITOR_ID.drop_duplicates())\n",
    "# That table only shows the first purchase date of user, \n",
    "# not every time they made a purchase"
   ]
  },
  {
   "cell_type": "code",
   "execution_count": 20,
   "id": "6fde34cf",
   "metadata": {
    "scrolled": false
   },
   "outputs": [
    {
     "data": {
      "text/plain": [
       "REQUESTED_AT\n",
       "2022-01-09    113\n",
       "2022-01-10    714\n",
       "2022-01-11    186\n",
       "2022-01-12     93\n",
       "2022-01-13     69\n",
       "2022-01-14     75\n",
       "2022-01-15    169\n",
       "2022-01-16    160\n",
       "2022-01-17    156\n",
       "Name: VISITOR_ID, dtype: int64"
      ]
     },
     "execution_count": 20,
     "metadata": {},
     "output_type": "execute_result"
    }
   ],
   "source": [
    "# Whats the data dist of purchases?\n",
    "conversions.groupby(\"REQUESTED_AT\")[\"VISITOR_ID\"].agg(\"count\")\n",
    "# Intersting, maybe there is a relationship with purchase and day of week"
   ]
  },
  {
   "cell_type": "markdown",
   "id": "6f6cdc41",
   "metadata": {},
   "source": [
    "#### Customers Data: snapshot of user information for their last page view"
   ]
  },
  {
   "cell_type": "code",
   "execution_count": 28,
   "id": "a6f63537",
   "metadata": {
    "scrolled": true
   },
   "outputs": [
    {
     "data": {
      "text/plain": [
       "24385"
      ]
     },
     "execution_count": 28,
     "metadata": {},
     "output_type": "execute_result"
    }
   ],
   "source": [
    "len(customers)"
   ]
  },
  {
   "cell_type": "code",
   "execution_count": 37,
   "id": "e645a5a5",
   "metadata": {},
   "outputs": [
    {
     "name": "stdout",
     "output_type": "stream",
     "text": [
      "ID 24385\n",
      "REQUESTED_AT 24379\n",
      "SITE_ID 1\n",
      "PAGE_VIEW_TYPE 10\n",
      "PAGE_ID 22\n",
      "SESSION_ID 22441\n",
      "VISITOR_ID 24385\n",
      "USER_AGENT 3169\n",
      "BROWSER_FAMILY 14\n",
      "BROWSER 60\n",
      "OS_FAMILY 8\n",
      "OS 41\n",
      "DEVICE_FAMILY 4\n",
      "CONVERSION_SUMMARIES 2074\n",
      "FIRST_SEEN 18307\n",
      "PAGE_VIEW_SUMMARIES 18866\n",
      "SITE_NAME 1\n"
     ]
    }
   ],
   "source": [
    "#Find out the number of unique values in each column\n",
    "for i in customers.columns:\n",
    "    print(i , len(customers[i].drop_duplicates()))\n",
    "    "
   ]
  },
  {
   "cell_type": "markdown",
   "id": "5fb48022",
   "metadata": {},
   "source": [
    "#### Organize/track columns:\n",
    "\n",
    "- One-to-One map to user\n",
    "    - VISITOR_ID 24385 (KEEP)- Keep, don't see any duplicates or issues\n",
    "    - ID 24385 (DROP)- Last page visit - Will drop, can use visitor id + date as identifier\n",
    "    - REQUESTED_AT (KEEP/Get date - Investigated) 24379 - Maybe some users visites site at same time, hence few data points short\n",
    "        - Found 6 times that had 2 users leave the site at the same time, spot check doesn't suggest any issue since the 2 users didn't seem to be related in any way. \n",
    "    - SESSION_ID 22441 (DROP - Investigated)- Should match user count...but it's off...why?\n",
    "        - Due to being inconsistent with the defination of session ID and not providing directly useful information, I may drop this column for simplicty sake.\n",
    "    \n",
    "- Last page info\n",
    "    - PAGE_VIEW_SUMMARIES 18866 (KEEP & Flatten- Remove any none values)\n",
    "        - Are there common pathways?\n",
    "    - PAGE_VIEW_TYPE 10 & PAGE_ID 22 (KEEP- Remove Unknown/Other)\n",
    "        - I will remove Unknown+Other\n",
    "        - What are these subtypes?\n",
    "    \n",
    "- Device info\n",
    "    - USER_AGENT 3169 - (DROP MAYBE) \n",
    "        - It appears that the key info in this string is already flattend below, so can use those instead.\n",
    "    - BROWSER_FAMILY 14 - (KEEP - Remove BOT & Unknown)\n",
    "        - May need to reorganize since classes are unbalanced\n",
    "    - BROWSER 60 - (KEEP - Remove BOT & Unknown)\n",
    "        - May need to reorganize since classes are unbalanced\n",
    "    - OS_FAMILY 8 - (KEEP - Remove UNKNOWN/UNKNOWN_MOBILE)\n",
    "    - OS 41 - (KEEP - Need to reorganize into larger classes)\n",
    "    - DEVICE_FAMILY 4 - (KEEP - Remove Unknown)\n",
    "    \n",
    "- Purchase history\n",
    "    - CONVERSION_SUMMARIES 2074 - (KEEP + Flatten)\n",
    "        - This is very useful info but need to flatten\n",
    "    \n",
    "- Activity history\n",
    "    - FIRST_SEEN 18307 (KEEP + strip time)\n",
    "        - I don't see the value of knowing the time the individual first visited the site, but the date is important. \n",
    "    \n",
    "- Site name\n",
    "    - SITE_NAME 1 (DROP)\n",
    "    - SITE_ID 1 (DROP)"
   ]
  },
  {
   "cell_type": "code",
   "execution_count": 121,
   "id": "3e2d7f31",
   "metadata": {},
   "outputs": [
    {
     "data": {
      "text/html": [
       "<div>\n",
       "<style scoped>\n",
       "    .dataframe tbody tr th:only-of-type {\n",
       "        vertical-align: middle;\n",
       "    }\n",
       "\n",
       "    .dataframe tbody tr th {\n",
       "        vertical-align: top;\n",
       "    }\n",
       "\n",
       "    .dataframe thead th {\n",
       "        text-align: right;\n",
       "    }\n",
       "</style>\n",
       "<table border=\"1\" class=\"dataframe\">\n",
       "  <thead>\n",
       "    <tr style=\"text-align: right;\">\n",
       "      <th></th>\n",
       "      <th>SESSION_ID</th>\n",
       "      <th>VISITOR_ID</th>\n",
       "    </tr>\n",
       "  </thead>\n",
       "  <tbody>\n",
       "    <tr>\n",
       "      <th>11206</th>\n",
       "      <td>7fa09f73e69e970f86ebcbbed83f7bfb3fa10ed5f9d1c0...</td>\n",
       "      <td>133</td>\n",
       "    </tr>\n",
       "    <tr>\n",
       "      <th>21849</th>\n",
       "      <td>f90554292c6cb4bac43aca4e6b9554e90cca3256949d35...</td>\n",
       "      <td>104</td>\n",
       "    </tr>\n",
       "    <tr>\n",
       "      <th>4093</th>\n",
       "      <td>2e3b0e55f10ff56fb8c6721be57bbd52b391a0b6732a36...</td>\n",
       "      <td>59</td>\n",
       "    </tr>\n",
       "    <tr>\n",
       "      <th>19452</th>\n",
       "      <td>dd622fb0f7f92ff9bd75fe28ffc232d5499c6f409d2ba5...</td>\n",
       "      <td>38</td>\n",
       "    </tr>\n",
       "    <tr>\n",
       "      <th>19154</th>\n",
       "      <td>da172f0d5910f62059a78e69ee12a00f374dae942c2940...</td>\n",
       "      <td>38</td>\n",
       "    </tr>\n",
       "    <tr>\n",
       "      <th>...</th>\n",
       "      <td>...</td>\n",
       "      <td>...</td>\n",
       "    </tr>\n",
       "    <tr>\n",
       "      <th>7698</th>\n",
       "      <td>573390684cd30322550d11722f8ca446f44b8f892c7cee...</td>\n",
       "      <td>1</td>\n",
       "    </tr>\n",
       "    <tr>\n",
       "      <th>7697</th>\n",
       "      <td>57329305ec59bcfb41f9dff3d4c109b6b16f1a23908d58...</td>\n",
       "      <td>1</td>\n",
       "    </tr>\n",
       "    <tr>\n",
       "      <th>7695</th>\n",
       "      <td>572f65e644b9a850f85db9a56092a3a247174daf7b6678...</td>\n",
       "      <td>1</td>\n",
       "    </tr>\n",
       "    <tr>\n",
       "      <th>7693</th>\n",
       "      <td>57257ce46d31a3c2c9d315042c620b069325ffb27d773d...</td>\n",
       "      <td>1</td>\n",
       "    </tr>\n",
       "    <tr>\n",
       "      <th>22440</th>\n",
       "      <td>fff935ba93e89b7e0f0afaba0b1a2063ca4035da71d715...</td>\n",
       "      <td>1</td>\n",
       "    </tr>\n",
       "  </tbody>\n",
       "</table>\n",
       "<p>22441 rows × 2 columns</p>\n",
       "</div>"
      ],
      "text/plain": [
       "                                              SESSION_ID  VISITOR_ID\n",
       "11206  7fa09f73e69e970f86ebcbbed83f7bfb3fa10ed5f9d1c0...         133\n",
       "21849  f90554292c6cb4bac43aca4e6b9554e90cca3256949d35...         104\n",
       "4093   2e3b0e55f10ff56fb8c6721be57bbd52b391a0b6732a36...          59\n",
       "19452  dd622fb0f7f92ff9bd75fe28ffc232d5499c6f409d2ba5...          38\n",
       "19154  da172f0d5910f62059a78e69ee12a00f374dae942c2940...          38\n",
       "...                                                  ...         ...\n",
       "7698   573390684cd30322550d11722f8ca446f44b8f892c7cee...           1\n",
       "7697   57329305ec59bcfb41f9dff3d4c109b6b16f1a23908d58...           1\n",
       "7695   572f65e644b9a850f85db9a56092a3a247174daf7b6678...           1\n",
       "7693   57257ce46d31a3c2c9d315042c620b069325ffb27d773d...           1\n",
       "22440  fff935ba93e89b7e0f0afaba0b1a2063ca4035da71d715...           1\n",
       "\n",
       "[22441 rows x 2 columns]"
      ]
     },
     "execution_count": 121,
     "metadata": {},
     "output_type": "execute_result"
    }
   ],
   "source": [
    "# look at FIRST_SEEN\n",
    "customers.groupby([\"FIRST_SEEN\"])[\"VISITOR_ID\"].agg(\"count\")\n",
    "\n",
    "# look at PAGE_VIEW_TYPE & PAGE_ID\n",
    "customers.groupby([\"PAGE_VIEW_TYPE\", \"PAGE_ID\"])[\"VISITOR_ID\"].agg(\"count\")\n",
    "\n",
    "\n",
    "# Look at REQUESTED_AT\n",
    "visit_times = (customers.groupby(\"REQUESTED_AT\")[\"VISITOR_ID\"].agg(\"count\")\n",
    "               .reset_index().sort_values(\"VISITOR_ID\", ascending=False))\n",
    "\n",
    "visit_times[visit_times[\"VISITOR_ID\"]>1]\n",
    "customers[customers[\"REQUESTED_AT\"]=='2022-01-10 18:14:56.748']\n",
    "\n",
    "# look at SESSION_ID\n",
    "(customers.groupby(\"SESSION_ID\")['VISITOR_ID']\n",
    ".nunique().reset_index().sort_values(\"VISITOR_ID\", ascending = False)\n",
    ")"
   ]
  },
  {
   "cell_type": "markdown",
   "id": "07fdd069",
   "metadata": {},
   "source": [
    "#### Understand Visitor ID dist"
   ]
  },
  {
   "cell_type": "code",
   "execution_count": 475,
   "id": "0e9245c3",
   "metadata": {
    "scrolled": true
   },
   "outputs": [],
   "source": [
    "import datetime\n",
    "conversions_ss = conversions[conversions[\"REQUESTED_AT\"] > datetime.date(2022, 1, 10)]"
   ]
  },
  {
   "cell_type": "code",
   "execution_count": 476,
   "id": "a84575c8",
   "metadata": {},
   "outputs": [
    {
     "name": "stdout",
     "output_type": "stream",
     "text": [
      "#make purchase after 7 days 881\n",
      "%make purchase after 7 days 0.046346467462780816\n"
     ]
    }
   ],
   "source": [
    "visitors_jan10 = set(customers.VISITOR_ID)\n",
    "conversion_after10th = set(conversions_ss.VISITOR_ID)\n",
    "\n",
    "print('#make purchase after 7 days', len(conversion_after10th & visitors_jan10))\n",
    "print('%make purchase after 7 days', 1-len(visitors_jan10 - conversion_after10th)/len(visitors_jan10))"
   ]
  },
  {
   "cell_type": "code",
   "execution_count": 477,
   "id": "af979021",
   "metadata": {},
   "outputs": [
    {
     "data": {
      "text/plain": [
       "0.008849557522123894"
      ]
     },
     "execution_count": 477,
     "metadata": {},
     "output_type": "execute_result"
    }
   ],
   "source": [
    "# Will ignore visitor ids from the 9th since none of them were present\n",
    "# on the 10th in the visitor data. Also, this would simplify identifying key features. \n",
    "conversions_9th = conversions[conversions[\"REQUESTED_AT\"] < datetime.date(2022, 1, 10)]\n",
    "conversions_9th = set(conversions_9th.VISITOR_ID)\n",
    "len(conversions_9th - visitors_jan10) / len(conversions_9th)"
   ]
  },
  {
   "cell_type": "code",
   "execution_count": 478,
   "id": "5b0fe548",
   "metadata": {},
   "outputs": [],
   "source": [
    "# Also, In practice, I would have used a moving window \n",
    "# approach to identify key features that are a strong predictor of future sales, given a date.\n",
    "# But here I am using only a single window to identify key features.\n",
    "\n",
    "# In this case, the window I am using is from Jan 11 to the 17th, using the visitors from 10th. "
   ]
  },
  {
   "cell_type": "code",
   "execution_count": 479,
   "id": "71e30e7c",
   "metadata": {},
   "outputs": [
    {
     "data": {
      "text/plain": [
       "881"
      ]
     },
     "execution_count": 479,
     "metadata": {},
     "output_type": "execute_result"
    }
   ],
   "source": [
    "# Visitors that converted within 7 days that visiting the site on Jan 10th\n",
    "future_converters = list(visitors_jan10.intersection(conversion_after10th))\n",
    "len(future_converters)"
   ]
  },
  {
   "cell_type": "code",
   "execution_count": 480,
   "id": "1f95caec",
   "metadata": {},
   "outputs": [
    {
     "data": {
      "text/plain": [
       "future_conversion_flag\n",
       "0.0    18128\n",
       "1.0      881\n",
       "Name: VISITOR_ID, dtype: int64"
      ]
     },
     "execution_count": 480,
     "metadata": {},
     "output_type": "execute_result"
    }
   ],
   "source": [
    "# Add future conversion flag into customers DF\n",
    "customers.loc[customers['VISITOR_ID'].isin(future_converters), 'future_conversion_flag'] = 1\n",
    "customers['future_conversion_flag'] = customers['future_conversion_flag'].fillna(0)\n",
    "\n",
    "customers.groupby('future_conversion_flag')[\"VISITOR_ID\"].agg(\"count\")"
   ]
  },
  {
   "cell_type": "code",
   "execution_count": 481,
   "id": "331f55c0",
   "metadata": {},
   "outputs": [
    {
     "data": {
      "text/plain": [
       "returing_customer_flag\n",
       "0.0    16826\n",
       "1.0     2183\n",
       "Name: VISITOR_ID, dtype: int64"
      ]
     },
     "execution_count": 481,
     "metadata": {},
     "output_type": "execute_result"
    }
   ],
   "source": [
    "# Create flag for returning and new customers\n",
    "customers[\"CONVERSION_SUMMARIES_len\"]  = [len(str(i)) for i in customers[\"CONVERSION_SUMMARIES\"] ]\n",
    "returing_customers = (customers[customers[\"CONVERSION_SUMMARIES_len\"]>4]\n",
    "                        [[\"VISITOR_ID\", \"CONVERSION_SUMMARIES\"]])\n",
    "\n",
    "customers.loc[customers['VISITOR_ID'].isin(list(set(returing_customers[\"VISITOR_ID\"])))\n",
    "                  , 'returing_customer_flag'] = 1\n",
    "customers['returing_customer_flag'] = customers['returing_customer_flag'].fillna(0)\n",
    "\n",
    "customers.groupby('returing_customer_flag')[\"VISITOR_ID\"].agg(\"count\")"
   ]
  },
  {
   "cell_type": "code",
   "execution_count": 482,
   "id": "3da008de",
   "metadata": {},
   "outputs": [
    {
     "data": {
      "text/plain": [
       "future_purchase_type_flag\n",
       "new_customer           545\n",
       "no_purchase          18128\n",
       "returing_customer      336\n",
       "Name: VISITOR_ID, dtype: int64"
      ]
     },
     "execution_count": 482,
     "metadata": {},
     "output_type": "execute_result"
    }
   ],
   "source": [
    "# Create flag for repeat customer making another purchase and new customer making first purchase\n",
    "customers['future_purchase_type_flag'] = 'no_purchase' \n",
    "customers.loc[(customers.future_conversion_flag == 1) & (customers.returing_customer_flag == 1),\n",
    "               'future_purchase_type_flag'] = 'returing_customer'\n",
    "customers.loc[(customers.future_conversion_flag == 1) & (customers.returing_customer_flag == 0),\n",
    "               'future_purchase_type_flag'] = 'new_customer'\n",
    "customers.groupby('future_purchase_type_flag')[\"VISITOR_ID\"].agg(\"count\")"
   ]
  },
  {
   "cell_type": "markdown",
   "id": "b966dbe2",
   "metadata": {},
   "source": [
    "### Clean and preprocess the data."
   ]
  },
  {
   "cell_type": "code",
   "execution_count": 389,
   "id": "4ef50c94",
   "metadata": {},
   "outputs": [],
   "source": [
    "# Drop columns\n",
    "customers = customers.drop(columns=['ID', 'SESSION_ID', 'USER_AGENT', 'SITE_NAME', 'SITE_ID'])"
   ]
  },
  {
   "cell_type": "code",
   "execution_count": 390,
   "id": "fc3fc951",
   "metadata": {},
   "outputs": [],
   "source": [
    "# Remove rows with bad values\n",
    "customers = customers[~customers[\"PAGE_VIEW_SUMMARIES\"].isna()]\n",
    "customers = customers[customers[\"PAGE_VIEW_TYPE\"] != \"UNKNOWN\"]\n",
    "customers = customers[customers[\"PAGE_ID\"] != \"other\"]\n",
    "customers = customers[~customers[\"BROWSER_FAMILY\"].isin([\"UNKNOWN\", \"BOT\"])]\n",
    "customers = customers[~customers[\"OS_FAMILY\"].isin([\"UNKNOWN\"])]"
   ]
  },
  {
   "cell_type": "code",
   "execution_count": 395,
   "id": "45150943",
   "metadata": {},
   "outputs": [],
   "source": [
    "# Update date values\n",
    "customers[\"latest_visit_date\"] = [i.date() for i in customers[\"REQUESTED_AT\"]]\n",
    "customers[\"first_visit_date\"] = ([datetime.strptime(i.split(\"T\")[0].replace('\"', ''), \"%Y-%m-%d\").date() \n",
    "                                  for i in customers[\"FIRST_SEEN\"]])"
   ]
  },
  {
   "cell_type": "code",
   "execution_count": 465,
   "id": "63791ef6",
   "metadata": {},
   "outputs": [],
   "source": [
    "import numpy as np\n",
    "\n",
    "purchase_df = pd.DataFrame()\n",
    "for i in range(0, len(customers)):\n",
    "    v_id = customers.iloc[i][\"VISITOR_ID\"]\n",
    "        \n",
    "    purchase_history = json_normalize(json.loads(customers[\"CONVERSION_SUMMARIES\"].iloc[i]))\n",
    "    \n",
    "    if len(purchase_history)==1:\n",
    "        \n",
    "        purchase_history[\"next\"] = ([ datetime.strptime(i.split(\".\")[0], '%Y-%m-%dT%H:%M:%S')  \n",
    "                                      for i in purchase_history[\"requested_at\"]])\n",
    "        \n",
    "        purchase_history[\"weekday\"] = [i.weekday() for i in purchase_history[\"next\"]]\n",
    "        purchase_history[\"hour\"] = [i.hour for i in purchase_history[\"next\"]]\n",
    "        \n",
    "        median_weekday = np.median(purchase_history[\"weekday\"])\n",
    "        median_hour = np.median(purchase_history[\"hour\"])\n",
    "        \n",
    "        purchase_count = len(purchase_history)\n",
    "        mean_price = np.mean(purchase_history[\"conversion_value\"])\n",
    "        min_price = np.min(purchase_history[\"conversion_value\"])\n",
    "        max_price = np.max(purchase_history[\"conversion_value\"])\n",
    "        \n",
    "        data = ([{'VISITOR_ID':v_id, \n",
    "         'purchase_count': purchase_count, \n",
    "         'mean_price': mean_price, \n",
    "         'min_price':min_price, \n",
    "         'max_price':max_price, \n",
    "         'median_weekday': median_weekday, \n",
    "         'median_hour': median_hour, \n",
    "         'median_repeat_purchase_duration':0\n",
    "        }])\n",
    "\n",
    "        purchase_df = pd.concat([purchase_df,pd.DataFrame(data)], ignore_index=True)\n",
    "        \n",
    "        \n",
    "        \n",
    "    elif len(purchase_history)>1:\n",
    "\n",
    "        purchase_history[\"next\"] = ([ datetime.strptime(i.split(\".\")[0], '%Y-%m-%dT%H:%M:%S')  \n",
    "                                      for i in purchase_history[\"requested_at\"]])\n",
    "\n",
    "        purchase_history[\"weekday\"] = [i.weekday() for i in purchase_history[\"next\"]]\n",
    "        purchase_history[\"hour\"] = [i.hour for i in purchase_history[\"next\"]]\n",
    "        \n",
    "        median_weekday = np.median(purchase_history[\"weekday\"])\n",
    "        median_hour = np.median(purchase_history[\"hour\"])\n",
    "\n",
    "        purchase_count = len(purchase_history)\n",
    "        mean_price = np.mean(purchase_history[\"conversion_value\"])\n",
    "        min_price = np.min(purchase_history[\"conversion_value\"])\n",
    "        max_price = np.max(purchase_history[\"conversion_value\"])\n",
    "\n",
    "        purchase_history[\"previous\"] = purchase_history[\"next\"].shift(periods =1)\n",
    "        purchase_history = purchase_history.iloc[1:]\n",
    "        purchase_history[\"diff\"] = purchase_history[\"next\"] - purchase_history[\"previous\"]\n",
    "        purchase_history[\"diff_days\"] = purchase_history[\"diff\"].dt.days\n",
    "\n",
    "        median_repeat_purchase_duration = np.median(purchase_history[\"diff_days\"])\n",
    "\n",
    "\n",
    "        data = ([{'VISITOR_ID':v_id, \n",
    "         'purchase_count': purchase_count, \n",
    "         'mean_price': mean_price, \n",
    "         'min_price':min_price, \n",
    "         'max_price':max_price, \n",
    "         'median_weekday': median_weekday, \n",
    "         'median_hour': median_hour, \n",
    "         'median_repeat_purchase_duration':median_repeat_purchase_duration \n",
    "        }])\n",
    "\n",
    "        purchase_df = pd.concat([purchase_df,pd.DataFrame(data)], ignore_index=True)\n",
    "    \n",
    "    else:\n",
    "        \n",
    "        data = ([{'VISITOR_ID':v_id, \n",
    "         'purchase_count': 0, \n",
    "         'mean_price': 0, \n",
    "         'min_price':0, \n",
    "         'max_price':0, \n",
    "         'median_weekday': 0, \n",
    "         'median_hour': 0, \n",
    "         'median_repeat_purchase_duration':0\n",
    "        }])\n",
    "\n",
    "        purchase_df = pd.concat([purchase_df,pd.DataFrame(data)], ignore_index=True)\n",
    "        \n",
    "purchase_df.to_csv('purchase_df.csv')"
   ]
  },
  {
   "cell_type": "code",
   "execution_count": 407,
   "id": "69ae971b",
   "metadata": {
    "scrolled": true
   },
   "outputs": [],
   "source": [
    "activity_df = pd.DataFrame()\n",
    "for i in range(0, len(customers)):\n",
    "    v_id = customers.iloc[i][\"VISITOR_ID\"]\n",
    "    \n",
    "    view_history = json_normalize(json.loads(customers.iloc[i][\"PAGE_VIEW_SUMMARIES\"]))\n",
    "\n",
    "    view_history[\"next\"] = ([ datetime.strptime(i.split(\".\")[0], '%Y-%m-%dT%H:%M:%S')  \n",
    "                                  for i in view_history[\"requested_at\"]])\n",
    "    view_history[\"previous\"] = view_history[\"next\"].shift(periods =1)\n",
    "    view_history = view_history.iloc[1:]\n",
    "    view_history[\"diff\"] = view_history[\"next\"] - view_history[\"previous\"]\n",
    "    view_history[\"diff\"] = view_history[\"diff\"].dt.total_seconds()\n",
    "\n",
    "    view_history = view_history[view_history[\"diff\"]<(60*30)]\n",
    "    view_history = view_history[view_history[\"page_id\"] != 'other']\n",
    "    \n",
    "    action_summary = view_history.groupby(\"page_id\")[\"diff\"].agg(\"sum\").reset_index()\n",
    "    action_summary.columns = [\"activity\", \"seconds_on_activity\"]\n",
    "    action_summary = (pd.pivot_table(action_summary, values=\"seconds_on_activity\", \n",
    "                                     columns=[\"activity\"]).reset_index(drop=True))\n",
    "\n",
    "    action_summary[\"VISITOR_ID\"] = v_id\n",
    "    \n",
    "    activity_df = pd.concat([activity_df,action_summary], ignore_index=True)\n",
    "\n",
    "activity_df = activity_df.fillna(0)\n",
    "activity_df.to_csv('activity_df.csv')"
   ]
  },
  {
   "cell_type": "code",
   "execution_count": 470,
   "id": "7e7ca2c8",
   "metadata": {},
   "outputs": [],
   "source": [
    "customers = customers.merge(purchase_df, on='VISITOR_ID', how='left')\n",
    "customers = customers.merge(activity_df, on='VISITOR_ID', how='left')"
   ]
  },
  {
   "cell_type": "code",
   "execution_count": null,
   "id": "1bea7692",
   "metadata": {},
   "outputs": [],
   "source": [
    "customers = customers.drop(columns=['REQUESTED_AT', 'PAGE_VIEW_TYPE', 'PAGE_ID', 'PAGE_VIEW_SUMMARIES', 'CONVERSION_SUMMARIES', 'CONVERSION_SUMMARIES_len'])"
   ]
  },
  {
   "cell_type": "code",
   "execution_count": 495,
   "id": "bcf1c2dc",
   "metadata": {
    "scrolled": false
   },
   "outputs": [
    {
     "data": {
      "text/plain": [
       "Index(['VISITOR_ID', 'BROWSER_FAMILY', 'BROWSER', 'OS_FAMILY', 'OS',\n",
       "       'DEVICE_FAMILY', 'FIRST_SEEN', 'future_conversion_flag',\n",
       "       'returing_customer_flag', 'future_purchase_type_flag',\n",
       "       'latest_visit_date', 'first_visit_date', 'cart', 'collections.hair',\n",
       "       'collections.other', 'collections.paged', 'collections.products',\n",
       "       'collections.tools', 'addtocart', 'collections.newarrival', 'home',\n",
       "       'account', 'checkout', 'confirmation', 'orders.other', 'pages',\n",
       "       'products.other', 'search', 'collections.oki',\n",
       "       'collections.bestsellers', 'collections.stationary', 'collections.bath',\n",
       "       'collections.socks', 'collections.makeup', 'collections', 'policies',\n",
       "       'blogs', 'purchase_count', 'mean_price', 'min_price', 'max_price',\n",
       "       'median_weekday', 'median_hour', 'median_repeat_purchase_duration'],\n",
       "      dtype='object')"
      ]
     },
     "execution_count": 495,
     "metadata": {},
     "output_type": "execute_result"
    }
   ],
   "source": [
    "customers.columns"
   ]
  },
  {
   "cell_type": "markdown",
   "id": "502eb273",
   "metadata": {},
   "source": [
    "### Feature Selection"
   ]
  },
  {
   "cell_type": "markdown",
   "id": "fbe973dd",
   "metadata": {},
   "source": [
    "I was able to generate 42 features. \n",
    "\n",
    "I didn't touch the device-related information since it was already organized and wouldn't require much effort to convert it from a categorical feature to a numeric one. Instead, I decided to dig into user browsing behaviour and previous purchase history since they would better predict future purchases. \n",
    "\n",
    "To get a better score, I will reduce the feature set by combining the existing numeric features. I can use PCA or backwards-elimination techniques, but with PCA, it will create new features, which I want to avoid due to reduced interpretability. As for training a model that would then indicate feature importance, this would reduce the feature set but not meet the assignment goal of creating 'good quality features.' So, for this reason, I will rely on simple correlation to identify similar features and then make a new feature out of them using simple arithmetic, thereby reducing features while maintaining interpretability.  "
   ]
  },
  {
   "cell_type": "code",
   "execution_count": 525,
   "id": "88c0a4e2",
   "metadata": {
    "scrolled": false
   },
   "outputs": [],
   "source": [
    "# Flag any highly coorelated features\n",
    "import matplotlib.pyplot as plt\n",
    "\n",
    "numeric_features = customers[[ \n",
    "       'returing_customer_flag',\n",
    "       'cart', 'collections.hair',\n",
    "       'collections.other', 'collections.paged', 'collections.products',\n",
    "       'collections.tools', 'addtocart', 'collections.newarrival', 'home',\n",
    "       'account', 'checkout', 'confirmation', 'orders.other', 'pages',\n",
    "       'products.other', 'search', 'collections.oki',\n",
    "       'collections.bestsellers', 'collections.stationary', 'collections.bath',\n",
    "       'collections.socks', 'collections.makeup', 'collections', 'policies',\n",
    "       'blogs', 'purchase_count', 'mean_price', 'min_price', 'max_price',\n",
    "       'median_weekday', 'median_hour', 'median_repeat_purchase_duration', 'future_conversion_flag']]\n"
   ]
  },
  {
   "cell_type": "code",
   "execution_count": 532,
   "id": "3392eee7",
   "metadata": {},
   "outputs": [],
   "source": [
    "cor_data = pd.DataFrame()\n",
    "\n",
    "for i in list(numeric_features.columns):\n",
    "    for j in list(numeric_features.columns):\n",
    "\n",
    "        cor_val = numeric_features[i].corr(numeric_features[j])\n",
    "        \n",
    "        data = pd.DataFrame([{'i': i, 'j': j, 'cor_val':cor_val}])\n",
    "\n",
    "        cor_data = pd.concat([cor_data,data], ignore_index=True)\n",
    "        "
   ]
  },
  {
   "cell_type": "code",
   "execution_count": 566,
   "id": "4c1ffd50",
   "metadata": {
    "scrolled": false
   },
   "outputs": [
    {
     "data": {
      "text/html": [
       "<div>\n",
       "<style scoped>\n",
       "    .dataframe tbody tr th:only-of-type {\n",
       "        vertical-align: middle;\n",
       "    }\n",
       "\n",
       "    .dataframe tbody tr th {\n",
       "        vertical-align: top;\n",
       "    }\n",
       "\n",
       "    .dataframe thead th {\n",
       "        text-align: right;\n",
       "    }\n",
       "</style>\n",
       "<table border=\"1\" class=\"dataframe\">\n",
       "  <thead>\n",
       "    <tr style=\"text-align: right;\">\n",
       "      <th></th>\n",
       "      <th>i</th>\n",
       "      <th>j</th>\n",
       "      <th>cor_val</th>\n",
       "    </tr>\n",
       "  </thead>\n",
       "  <tbody>\n",
       "    <tr>\n",
       "      <th>30</th>\n",
       "      <td>returing_customer_flag</td>\n",
       "      <td>median_weekday</td>\n",
       "      <td>0.813256</td>\n",
       "    </tr>\n",
       "    <tr>\n",
       "      <th>31</th>\n",
       "      <td>returing_customer_flag</td>\n",
       "      <td>median_hour</td>\n",
       "      <td>0.832022</td>\n",
       "    </tr>\n",
       "    <tr>\n",
       "      <th>946</th>\n",
       "      <td>mean_price</td>\n",
       "      <td>min_price</td>\n",
       "      <td>0.979926</td>\n",
       "    </tr>\n",
       "    <tr>\n",
       "      <th>947</th>\n",
       "      <td>mean_price</td>\n",
       "      <td>max_price</td>\n",
       "      <td>0.966641</td>\n",
       "    </tr>\n",
       "    <tr>\n",
       "      <th>979</th>\n",
       "      <td>min_price</td>\n",
       "      <td>mean_price</td>\n",
       "      <td>0.979926</td>\n",
       "    </tr>\n",
       "    <tr>\n",
       "      <th>981</th>\n",
       "      <td>min_price</td>\n",
       "      <td>max_price</td>\n",
       "      <td>0.904282</td>\n",
       "    </tr>\n",
       "    <tr>\n",
       "      <th>1013</th>\n",
       "      <td>max_price</td>\n",
       "      <td>mean_price</td>\n",
       "      <td>0.966641</td>\n",
       "    </tr>\n",
       "    <tr>\n",
       "      <th>1014</th>\n",
       "      <td>max_price</td>\n",
       "      <td>min_price</td>\n",
       "      <td>0.904282</td>\n",
       "    </tr>\n",
       "    <tr>\n",
       "      <th>1020</th>\n",
       "      <td>median_weekday</td>\n",
       "      <td>returing_customer_flag</td>\n",
       "      <td>0.813256</td>\n",
       "    </tr>\n",
       "    <tr>\n",
       "      <th>1054</th>\n",
       "      <td>median_hour</td>\n",
       "      <td>returing_customer_flag</td>\n",
       "      <td>0.832022</td>\n",
       "    </tr>\n",
       "  </tbody>\n",
       "</table>\n",
       "</div>"
      ],
      "text/plain": [
       "                           i                       j   cor_val\n",
       "30    returing_customer_flag          median_weekday  0.813256\n",
       "31    returing_customer_flag             median_hour  0.832022\n",
       "946               mean_price               min_price  0.979926\n",
       "947               mean_price               max_price  0.966641\n",
       "979                min_price              mean_price  0.979926\n",
       "981                min_price               max_price  0.904282\n",
       "1013               max_price              mean_price  0.966641\n",
       "1014               max_price               min_price  0.904282\n",
       "1020          median_weekday  returing_customer_flag  0.813256\n",
       "1054             median_hour  returing_customer_flag  0.832022"
      ]
     },
     "execution_count": 566,
     "metadata": {},
     "output_type": "execute_result"
    }
   ],
   "source": [
    "cor_data[(cor_data[\"cor_val\"] >0.8) & (cor_data[\"cor_val\"] <= 0.99)]\n",
    "#cor_data[(cor_data[\"cor_val\"] >0.3) & (cor_data[\"cor_val\"] <= 0.32)]\n",
    "#cor_data[cor_data['i']=='future_conversion_flag'].sort_values('cor_val')#.reset_index()"
   ]
  },
  {
   "cell_type": "markdown",
   "id": "843504de",
   "metadata": {},
   "source": [
    "### Final Features"
   ]
  },
  {
   "cell_type": "markdown",
   "id": "0f0e6f8f",
   "metadata": {},
   "source": [
    "##### To separate entries\n",
    "- 'VISITOR_ID'\n",
    "- 'latest_visit_date'\n",
    "\n",
    "##### Target metric\n",
    "- 'future_conversion_flag'\n",
    "\n",
    "\n",
    "##### Device Related - I mostly left these untouched due to the time limit. \n",
    "If I had more time, I would have dug more into each of these features and determined if any of these features have a strong association with purchases made. ie, 80% of purchases made are on a smartphone, so I would convert the phone inside of device_family into a separate feature flag. \n",
    "- 'BROWSER_FAMILY'\n",
    "- 'BROWSER'\n",
    "- 'OS_FAMILY'\n",
    "- 'OS'\n",
    "- 'DEVICE_FAMILY'\n",
    "    \n",
    "##### Time related\n",
    "- 'first_visit_date'\n",
    "\n",
    "##### Time spent on page activity per session\n",
    "Either add up all associated features into a single column or keep the highly correlated column. \n",
    "- 'pages' - Moderately coorelated with 'products.other', 'cart'\n",
    "- 'collections.other'- Moderately correlated with 'addtocart', 'collections.paged', 'collections.products', 'collections.newarrival', 'home'\n",
    "- 'confirmation' - Highly correlated with 'purchase_count', 'checkout'\n",
    "- 'orders.other' - moderately correlated with  'account'\n",
    "\n",
    "##### Weakly correlated,\n",
    "Add up time from the below features in the new feature \"browsing_time\"\n",
    "- 'collections.hair'\n",
    "- 'collections.tools'\n",
    "- 'home'\n",
    "- 'checkout'\n",
    "- 'search'\n",
    "- 'collections.oki'\n",
    "- 'collections.bestsellers'\n",
    "- 'collections.stationary'\n",
    "- 'collections.bath'\n",
    "- 'collections.socks'\n",
    "- 'collections.makeup'\n",
    "- 'collections'\n",
    "- 'policies'\n",
    "- 'blogs'\n",
    "\n",
    "##### Historical Purchases\n",
    "- 'mean_price' -  'max_price' will be dropped since they are highly correlated with mean price.\n",
    "- 'min_price' - Highly correlated with 'returing_customer_flag'\n",
    "- 'median_weekday' - Highly correlated with target metric\n",
    "- 'median_hour' - Highly correlated with target metric\n",
    "- 'median_repeat_purchase_duration' - Moderately correlated with target metric"
   ]
  }
 ],
 "metadata": {
  "kernelspec": {
   "display_name": "Python 3 (ipykernel)",
   "language": "python",
   "name": "python3"
  },
  "language_info": {
   "codemirror_mode": {
    "name": "ipython",
    "version": 3
   },
   "file_extension": ".py",
   "mimetype": "text/x-python",
   "name": "python",
   "nbconvert_exporter": "python",
   "pygments_lexer": "ipython3",
   "version": "3.9.7"
  }
 },
 "nbformat": 4,
 "nbformat_minor": 5
}
